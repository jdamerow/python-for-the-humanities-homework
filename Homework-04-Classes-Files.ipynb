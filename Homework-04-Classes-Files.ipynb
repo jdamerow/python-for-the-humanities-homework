{
 "cells": [
  {
   "cell_type": "markdown",
   "metadata": {},
   "source": [
    "# Assignment 1\n",
    "\n",
    "Creat a class that represents a textfile (e.g. called `Text`). The class should have the following properties:\n",
    "\n",
    "- a variable to hold the path to the file\n",
    "- a variable that holds the type of file (e.g. plaintext, pdf, image)\n",
    "- a variable that holds the filesize\n",
    "- a variable `text` that holds the text content of a file\n",
    "- a method to load the text content of a file into the `text` variable\n",
    "- a method that sets the filesize property of an object according the size of the file at `filepath`\n",
    "- a method that accepts another text object and returns true if that text object is smaller in size than the current one; otherwise false\n",
    "\n",
    "Then create three Text objects and put them in a list. For each element in the list print filepath, type of file, and filesize.\n"
   ]
  },
  {
   "cell_type": "code",
   "execution_count": null,
   "metadata": {},
   "outputs": [],
   "source": [
    "# your code"
   ]
  },
  {
   "cell_type": "markdown",
   "metadata": {},
   "source": [
    "# Assignment 2\n",
    "\n",
    "Create a class that represents a project (e.g. called `Project`). The class should have the following properties:\n",
    "\n",
    "- It should be initialized with a path to a directory that holds several folders.\n",
    "- It should have a list of collections objects (see below).\n",
    "- There should be a method called `load_collections` that will for each folder in the directory passed to the constructor, create a collection and name it according to the folder name and set the path to the folder in the collection.\n",
    "\n",
    "Create a class that represents a collection of texts (e.g. called `Collection`). The class should have the following properties:\n",
    "\n",
    "- A path to a folder in the filesystem.\n",
    "- A name for the collection.\n",
    "- a list of `Text` objects.\n",
    "- A method called `load_files` that will create a `Text` object for each file in the folder specified for the collection.\n",
    "\n",
    "Create a folder that has several subfolders. Each subfolder should have a year as name (e.g. 1991, 1992, 1993, ...). Put a couple of plain text files into each folder. Now create a `Project` object and initialize it with the path to the folder (that has the year subfolders). Now call `load_collections` on the project and `load_files` on each collection."
   ]
  },
  {
   "cell_type": "code",
   "execution_count": null,
   "metadata": {},
   "outputs": [],
   "source": [
    "# your code"
   ]
  }
 ],
 "metadata": {
  "kernelspec": {
   "display_name": "Python 3",
   "language": "python",
   "name": "python3"
  },
  "language_info": {
   "codemirror_mode": {
    "name": "ipython",
    "version": 3
   },
   "file_extension": ".py",
   "mimetype": "text/x-python",
   "name": "python",
   "nbconvert_exporter": "python",
   "pygments_lexer": "ipython3",
   "version": "3.7.4"
  }
 },
 "nbformat": 4,
 "nbformat_minor": 2
}
