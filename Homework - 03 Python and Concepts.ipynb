{
 "cells": [
  {
   "cell_type": "markdown",
   "metadata": {},
   "source": [
    "# Assignment 1\n",
    "\n",
    "Let's go back to our library program. You can use your solution to last weeks homework as starter code and build on it. Here is what the program should be able to do:\n",
    "\n",
    "From the previous assignment:\n",
    "\n",
    "- check out books from the library.\n",
    "- each book can be checked out only once\n",
    "- books can be returned to the library\n",
    "- the program keeps track of who checked out a book\n",
    "\n",
    "For this assignment add the following features:\n",
    "\n",
    "- if a book is not in the library, users should be able to request them to be bought\n",
    "- users can also donate books to the library\n",
    "- the library also stores the authors of books and users can query for those (e.g. enter a title and the program returns the authors)\n",
    "\n",
    "Use functions to structure your code. \n",
    "\n",
    "There are many ways to write this program. It is up to you how you structure interaction with it (e.g. first ask for what a user wants to do, then ask for specific inputs or try to capture all cases with one input process).\n"
   ]
  },
  {
   "cell_type": "code",
   "execution_count": null,
   "metadata": {},
   "outputs": [],
   "source": [
    "# your code"
   ]
  },
  {
   "cell_type": "markdown",
   "metadata": {},
   "source": [
    "# Assignment 2\n",
    "\n",
    "**This assignment should be submitted as standalone Python script.** Please put the code for this assignment in a dedicated file (not into this notebook) and run it from the command line. Add, commit, and push that file to your homework branch of your GitHub repo.\n",
    "\n",
    "Start out by creating a virtual environment. Activate it. Then install example-lfuncs into it.\n",
    "\n",
    "How create a Python file and put your code into it. Create a string variable that holds the first paragraph of a Wikipedia article of your choice. Now, turn that string into a list of words (you can use the string method `split()` to split the string at for example blanks.\n",
    "\n",
    "Now, create a loop that asks the user for what he wants to do. Give them the following options: \n",
    "\n",
    "* Find all the words that start with a specific prefix. The user can enter a prefix and the program finds all the words in the paragraph that start with that prefix and prints them.\n",
    "\n",
    "* Let the program count how often each words appears in the paragraph.\n",
    "\n",
    "Each option should be in its own function that you call from the main loop. The user should enter \"exit\" to end the program."
   ]
  },
  {
   "cell_type": "code",
   "execution_count": null,
   "metadata": {},
   "outputs": [],
   "source": [
    "# no code here, put it into a Python script"
   ]
  }
 ],
 "metadata": {
  "kernelspec": {
   "display_name": "Python 3",
   "language": "python",
   "name": "python3"
  },
  "language_info": {
   "codemirror_mode": {
    "name": "ipython",
    "version": 3
   },
   "file_extension": ".py",
   "mimetype": "text/x-python",
   "name": "python",
   "nbconvert_exporter": "python",
   "pygments_lexer": "ipython3",
   "version": "3.7.4"
  }
 },
 "nbformat": 4,
 "nbformat_minor": 2
}
