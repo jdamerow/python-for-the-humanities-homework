{
 "cells": [
  {
   "cell_type": "markdown",
   "metadata": {},
   "source": [
    "## Assignment 1\n",
    "\n",
    "Calculate the sum of all the squared numbers from 1 to 100. Keep in mind that the `range()` function excludes the given upper limit."
   ]
  },
  {
   "cell_type": "code",
   "execution_count": null,
   "metadata": {},
   "outputs": [],
   "source": [
    "# your solution"
   ]
  },
  {
   "cell_type": "markdown",
   "metadata": {},
   "source": [
    "## Assignment 2\n",
    "\n",
    "Calculate the sum of all the numbers in an array. There are multiple ways of doing this, choose any you like."
   ]
  },
  {
   "cell_type": "code",
   "execution_count": null,
   "metadata": {},
   "outputs": [],
   "source": [
    "# your solution"
   ]
  },
  {
   "cell_type": "markdown",
   "metadata": {},
   "source": [
    "## Assignment 3\n",
    "\n",
    "Adding to assignment 2, implement the same functionality but allow the array to be a mix of numbers and numbers represented as strings, e.g. [1, 5, '7', 5, '10']."
   ]
  },
  {
   "cell_type": "code",
   "execution_count": null,
   "metadata": {},
   "outputs": [],
   "source": [
    "# your solution"
   ]
  },
  {
   "cell_type": "markdown",
   "metadata": {},
   "source": [
    "## Assignment 4\n",
    "\n",
    "Let's build a small database program. The goal is to let the user build a database of pets. The database is a dictionary, in which a pet's name acts as the key and the value holds the type of animal (e.g. 'kitty': 'cat'). We'll assume that no two animals have the same name. Use a `while` loop to allow a user to add entries by first asking for the name of the pet and then for its type. Then ask the user if they want to add another entry.\n",
    "    \n",
    "*Tip*: the while loop condition can be a statement such as variables equals or does not equal a value."
   ]
  },
  {
   "cell_type": "code",
   "execution_count": null,
   "metadata": {},
   "outputs": [],
   "source": [
    "# your solution"
   ]
  },
  {
   "cell_type": "markdown",
   "metadata": {},
   "source": [
    "## Assignment 5\n",
    "\n",
    "Split a list of unknown length into 4 equal sized parts. You can make the assumption that the length of the list is a multiple of 4. Print the resulting lists.\n",
    "\n",
    "*Tip*: A list can contain multiple lists."
   ]
  },
  {
   "cell_type": "code",
   "execution_count": null,
   "metadata": {},
   "outputs": [],
   "source": [
    "# your solution"
   ]
  }
 ],
 "metadata": {
  "kernelspec": {
   "display_name": "Python 3",
   "language": "python",
   "name": "python3"
  },
  "language_info": {
   "codemirror_mode": {
    "name": "ipython",
    "version": 3
   },
   "file_extension": ".py",
   "mimetype": "text/x-python",
   "name": "python",
   "nbconvert_exporter": "python",
   "pygments_lexer": "ipython3",
   "version": "3.7.4"
  }
 },
 "nbformat": 4,
 "nbformat_minor": 4
}
